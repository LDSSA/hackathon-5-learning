{
  "cells": [
    {
      "cell_type": "markdown",
      "source": [
        "# Imports\n",
        "\nNothing to see here yet"
      ],
      "metadata": {}
    },
    {
      "cell_type": "code",
      "source": [
        "# Standard imports\n",
        "import numpy as np\n",
        "import pandas as pd\n",
        "\n",
        "# SKLearn related imports\n",
        "import sklearn\n",
        "from sklearn.feature_extraction.text import CountVectorizer\n",
        "from sklearn.feature_extraction.text import TfidfTransformer\n",
        "from sklearn import preprocessing\n",
        "\n",
        "from sklearn.naive_bayes import MultinomialNB\n",
        "from sklearn.model_selection import train_test_split\n",
        "\n",
        "from sklearn.pipeline import Pipeline\n",
        "from sklearn.base import TransformerMixin\n",
        "\n",
        "# NLTK Text Processing package\n",
        "import nltk\n",
        "from nltk.stem.snowball import SnowballStemmer\n",
        "from nltk.corpus import stopwords\n",
        "from nltk.tokenize import RegexpTokenizer\n",
        "\n"
      ],
      "outputs": [],
      "execution_count": 2,
      "metadata": {
        "collapsed": false,
        "outputHidden": false,
        "inputHidden": false
      }
    },
    {
      "cell_type": "markdown",
      "source": [
        "# Text Data in Practice \n",
        "\nWhile the first learning unit looked at the different steps inherent in working with textual data from a \"reinventing the wheel perspective\", this learning unit introduces the already existing tools and packages we can use to work with text."
      ],
      "metadata": {}
    },
    {
      "cell_type": "markdown",
      "source": [
        "For this example we will use a dataset called UCI \"News Aggregator\". \n",
        "\n",
        "This dataset is a collection of news headlines and their corresponding category. Our objective is to apply text classification techniques to assign a category to a news headline.\n",
        "\nLets start by importing the data:"
      ],
      "metadata": {}
    },
    {
      "cell_type": "code",
      "source": [
        "df = pd.read_csv('./data/uci-news-aggregator.csv')\n",
        "df.dtypes"
      ],
      "outputs": [
        {
          "output_type": "execute_result",
          "execution_count": 3,
          "data": {
            "text/plain": [
              "ID            int64\n",
              "TITLE        object\n",
              "URL          object\n",
              "PUBLISHER    object\n",
              "CATEGORY     object\n",
              "STORY        object\n",
              "HOSTNAME     object\n",
              "TIMESTAMP     int64\n",
              "dtype: object"
            ]
          },
          "metadata": {}
        }
      ],
      "execution_count": 3,
      "metadata": {
        "collapsed": false,
        "outputHidden": false,
        "inputHidden": false
      }
    },
    {
      "cell_type": "markdown",
      "source": [
        "As we can see this dataset has 8 different fields, for the sake of this learning unit we will look at two of them: Title and Category."
      ],
      "metadata": {}
    },
    {
      "cell_type": "code",
      "source": [
        "df = df[['TITLE', 'CATEGORY']]\n",
        "df.columns = ['title', 'category']\n",
        "df.head()"
      ],
      "outputs": [
        {
          "output_type": "execute_result",
          "execution_count": 4,
          "data": {
            "text/plain": [
              "                                               title category\n",
              "0  Fed official says weak data caused by weather,...        b\n",
              "1  Fed's Charles Plosser sees high bar for change...        b\n",
              "2  US open: Stocks fall after Fed official hints ...        b\n",
              "3  Fed risks falling 'behind the curve', Charles ...        b\n",
              "4  Fed's Plosser: Nasty Weather Has Curbed Job Gr...        b"
            ],
            "text/html": [
              "<div>\n",
              "<table border=\"1\" class=\"dataframe\">\n",
              "  <thead>\n",
              "    <tr style=\"text-align: right;\">\n",
              "      <th></th>\n",
              "      <th>title</th>\n",
              "      <th>category</th>\n",
              "    </tr>\n",
              "  </thead>\n",
              "  <tbody>\n",
              "    <tr>\n",
              "      <th>0</th>\n",
              "      <td>Fed official says weak data caused by weather,...</td>\n",
              "      <td>b</td>\n",
              "    </tr>\n",
              "    <tr>\n",
              "      <th>1</th>\n",
              "      <td>Fed's Charles Plosser sees high bar for change...</td>\n",
              "      <td>b</td>\n",
              "    </tr>\n",
              "    <tr>\n",
              "      <th>2</th>\n",
              "      <td>US open: Stocks fall after Fed official hints ...</td>\n",
              "      <td>b</td>\n",
              "    </tr>\n",
              "    <tr>\n",
              "      <th>3</th>\n",
              "      <td>Fed risks falling 'behind the curve', Charles ...</td>\n",
              "      <td>b</td>\n",
              "    </tr>\n",
              "    <tr>\n",
              "      <th>4</th>\n",
              "      <td>Fed's Plosser: Nasty Weather Has Curbed Job Gr...</td>\n",
              "      <td>b</td>\n",
              "    </tr>\n",
              "  </tbody>\n",
              "</table>\n",
              "</div>"
            ]
          },
          "metadata": {}
        }
      ],
      "execution_count": 4,
      "metadata": {
        "collapsed": false,
        "outputHidden": false,
        "inputHidden": false
      }
    },
    {
      "cell_type": "code",
      "source": [
        "(df['title'][2], df['category'][2])"
      ],
      "outputs": [
        {
          "output_type": "execute_result",
          "execution_count": 5,
          "data": {
            "text/plain": [
              "('US open: Stocks fall after Fed official hints at accelerated tapering', 'b')"
            ]
          },
          "metadata": {}
        }
      ],
      "execution_count": 5,
      "metadata": {
        "collapsed": false,
        "outputHidden": false,
        "inputHidden": false
      }
    },
    {
      "cell_type": "markdown",
      "source": [
        "From the keywords in this small sample we can already see that the \"b\" category seems to be related to stock related news.\n",
        "\nBefore moving into vectorizing the titles into a structured format our machine learning models can understand, lets split our dataset into a training and validation set."
      ],
      "metadata": {}
    },
    {
      "cell_type": "code",
      "source": [
        "# Split in train and validation\n",
        "train_df, validation_df = train_test_split(df, test_size=0.2, random_state=42)"
      ],
      "outputs": [],
      "execution_count": 6,
      "metadata": {
        "collapsed": false,
        "outputHidden": false,
        "inputHidden": false
      }
    },
    {
      "cell_type": "markdown",
      "source": [
        "# Bag of words representation\n",
        "\n",
        "The first package we will look at are the text functionalities which come with the scikit learn package that you already used in the past.\n",
        "\n",
        "As we have seen in the first learning unit, a commonly used method to vectorize a piece of text is through a so called bag of words representation.\n",
        "\n",
        "Scikit Learn comes with a handy tool for this procedure, called __[Count Vectorizer](http://scikit-learn.org/stable/modules/generated/sklearn.feature_extraction.text.CountVectorizer.html)__ .\n",
        "\nLets instantiate a instance and see how it works."
      ],
      "metadata": {}
    },
    {
      "cell_type": "code",
      "source": [
        "vectorizer = CountVectorizer()"
      ],
      "outputs": [],
      "execution_count": 7,
      "metadata": {
        "collapsed": false,
        "outputHidden": false,
        "inputHidden": false
      }
    },
    {
      "cell_type": "markdown",
      "source": [
        "Like every scikit transformer this module needs to be fit first, in this case, this means it needs to build an internal dictionary of the available words in the text."
      ],
      "metadata": {}
    },
    {
      "cell_type": "code",
      "source": [
        "vectorizer.fit(train_df['title'].values)\n",
        "\n",
        "# Looking at a small sample of the vocabulary:\n",
        "vocabulary = list(vectorizer.vocabulary_.keys())\n",
        "print(\"Small sample of the vocabulary:\", vocabulary[0:20])\n",
        "\n",
        "# Number of words in the vocabulary\n",
        "print(\"\\nNumber of distinct words:\", len(vocabulary))"
      ],
      "outputs": [
        {
          "output_type": "stream",
          "name": "stdout",
          "text": [
            "Small sample of the vocabulary: ['nasa', 'cassini', 'spacecraft', 'finds', '101', 'geysers', 'on', 'icy', 'saturn', 'moon', 'paul', 'mazursky', 'dead', 'five', 'times', 'oscar', 'nominated', 'director', 'has', 'died']\n",
            "\n",
            "Number of distinct words: 50140\n"
          ]
        }
      ],
      "execution_count": 9,
      "metadata": {
        "collapsed": false,
        "outputHidden": false,
        "inputHidden": false
      }
    },
    {
      "cell_type": "markdown",
      "source": [
        "Looking at a random sample sentence, for example sentence 61, we can visualize the bag of words representation:"
      ],
      "metadata": {}
    },
    {
      "cell_type": "code",
      "source": [
        "sentence = train_df['title'].values[61:62]\n",
        "print(sentence[0], '\\n')\n",
        "\n",
        "# Tranform sentence into bag of words representation\n",
        "word_count_sentence = vectorizer.transform(sentence)\n",
        "\n",
        "# Find the indexes of the words which appear in the sentence\n",
        "_, columns = word_count_sentence.nonzero()\n",
        "\n",
        "# Get the inverse map to map vector indexes to words\n",
        "vocabulary = vectorizer.vocabulary_\n",
        "inv_map = {v: k for k, v in vocabulary.items()}\n",
        "\n",
        "# Extract the corresponding word and count\n",
        "counts = [(inv_map[i], word_count_sentence[0, i]) for i in columns]\n",
        "\n",
        "for word, count in counts:\n",
        "    print(word, \": \", count)"
      ],
      "outputs": [
        {
          "output_type": "stream",
          "name": "stdout",
          "text": [
            "NASA starts testing 'flying saucer', landing men on Mars \n",
            "\n",
            "flying :  1\n",
            "landing :  1\n",
            "mars :  1\n",
            "men :  1\n",
            "nasa :  1\n",
            "on :  1\n",
            "saucer :  1\n",
            "starts :  1\n",
            "testing :  1\n"
          ]
        }
      ],
      "execution_count": 10,
      "metadata": {
        "collapsed": false,
        "outputHidden": false,
        "inputHidden": false
      }
    },
    {
      "cell_type": "markdown",
      "source": [
        "We can now get the word counts (bag of word representation) for every sentence by calling the transform method. This returns a sparse matrix (which you already used in the last hackathon) where the rows represent the samples and the columns the word counts."
      ],
      "metadata": {}
    },
    {
      "cell_type": "code",
      "source": [
        "word_count_matrix = vectorizer.transform(train_df['title'].values)\n",
        "word_count_matrix.shape\n"
      ],
      "outputs": [
        {
          "output_type": "execute_result",
          "execution_count": 11,
          "data": {
            "text/plain": [
              "(337935, 50140)"
            ]
          },
          "metadata": {}
        }
      ],
      "execution_count": 11,
      "metadata": {
        "collapsed": false,
        "outputHidden": false,
        "inputHidden": false
      }
    },
    {
      "cell_type": "markdown",
      "source": [
        "# TF-IDF (Term Frequency–Inverse Document Frequency)\n",
        "\n",
        "The next important step is to scale the feature vectors by the terms frequencies so they don't skew the results.\n",
        "\nScikit comes with a handy tool called __[TF-IDF Transformer](http://scikit-learn.org/stable/modules/generated/sklearn.feature_extraction.text.TfidfTransformer.html)__ which deals with this for us."
      ],
      "metadata": {}
    },
    {
      "cell_type": "code",
      "source": [
        "tfidf = TfidfTransformer()\n",
        "tfidf.fit(word_count_matrix)\n",
        "\nword_term_frequency_matrix = tfidf.transform(word_count_matrix)"
      ],
      "outputs": [],
      "execution_count": 12,
      "metadata": {
        "collapsed": false,
        "outputHidden": false,
        "inputHidden": false
      }
    },
    {
      "cell_type": "markdown",
      "source": [
        "# Stemming\n",
        "\n",
        "While this gives us a good initial representation it can be further improved!\n",
        "\n",
        "An example improvement is stemming. Stemming reduces words to their most basic form which helps in joining the counts of words in a different form.\n",
        "\n",
        "For example: \"Walking\" and \"Walked\" would become \"Walk\", \"Handling\" and \"Handled\" would become \"Handl\"\n",
        "\n",
        "This transformation helps clean up the bag of words representation a bit which helps the learner by reducing the dimensionality of the problem.\n",
        "\n",
        "Stemming is implemented in the __[NLTK](http://www.nltk.org/)__ (Natural Language Toolkit) Python package which comes with a lot of usefull tools like entity recognition and parsing for text processing!\n",
        "\nHere we will encapsulate the stemming module as a custom Scikit transformer. This transformer separates the sentences into words, stems the words and joins the sentence back together."
      ],
      "metadata": {}
    },
    {
      "cell_type": "code",
      "source": [
        "# Custom transformer to implement stemming and sentence cleaning\n",
        "\n",
        "class StemmerTransformer(TransformerMixin):\n",
        "    def __init__(self):\n",
        "        self.stemmer = SnowballStemmer(\"english\", ignore_stopwords=True)\n",
        "        self.tokenizer = RegexpTokenizer(r'\\w+')\n",
        "        \n",
        "    def transform(self, X, *_):\n",
        "        X = list(map(self._clean_sentence, X))\n",
        "        return X\n",
        "    \n",
        "    def _clean_sentence(self, sentence):\n",
        "        # Split sentence into list of words\n",
        "        words = self.tokenizer.tokenize(sentence)\n",
        "        \n",
        "        # Filter out stopwords\n",
        "        #words = [word for word in words if word not in stopwords.words('english')]\n",
        "        \n",
        "        # Filter out numbers\n",
        "        words = [x for x in words if not x.isdigit()]\n",
        "        \n",
        "        # Stem words\n",
        "        words = map(self.stemmer.stem, words)\n",
        "        \n",
        "        # Join list elements into string\n",
        "        sentence = \" \".join(words)\n",
        "        \n",
        "        return sentence\n",
        "    \n",
        "    def fit(self, *_):\n",
        "        return self"
      ],
      "outputs": [],
      "execution_count": 13,
      "metadata": {
        "collapsed": false,
        "outputHidden": false,
        "inputHidden": false
      }
    },
    {
      "cell_type": "code",
      "source": [
        "stemmer = StemmerTransformer()\n",
        "\n",
        "original_sentence = train_df['title'].values[25:26]\n",
        "stemmed_sentence = stemmer.transform(original_sentence)\n",
        "\n",
        "print(\"Original sentence:\\n\", original_sentence, \"\\n\\nStemmed sentence:\\n\", stemmed_sentence)\n"
      ],
      "outputs": [
        {
          "output_type": "stream",
          "name": "stdout",
          "text": [
            "Original sentence:\n",
            " ['Game of Thrones Gives Us the Best Wedding Gift Imaginable'] \n",
            "\n",
            "Stemmed sentence:\n",
            " ['game of throne give us the best wed gift imagin']\n"
          ]
        }
      ],
      "execution_count": 14,
      "metadata": {
        "collapsed": false,
        "outputHidden": false,
        "inputHidden": false
      }
    },
    {
      "cell_type": "markdown",
      "source": [
        "# Pipelines\n",
        "\n",
        "To make the process from original text snippet to final feature vector as flexible and clean as possible we will use the SciKit __[Pipeline API](http://scikit-learn.org/stable/modules/generated/sklearn.pipeline.Pipeline.html)__. Pipelines allow us to easily compose transformations and classifiers.\n",
        "\nThe main advantage of pipelines is that the pipeline exposes the fit and predict functions, these automatically call the transformations on the data and the classifier, keeping the transformations coherent between train and test data."
      ],
      "metadata": {}
    },
    {
      "cell_type": "code",
      "source": [
        "# Build the pipeline\n",
        "text_clf = Pipeline([('stemm', StemmerTransformer()),\n",
        "                   ('vect', CountVectorizer()),\n",
        "                   ('tfidf', TfidfTransformer()),\n",
        "                   ('clf', MultinomialNB())])"
      ],
      "outputs": [],
      "execution_count": 15,
      "metadata": {
        "collapsed": false,
        "outputHidden": false,
        "inputHidden": false
      }
    },
    {
      "cell_type": "markdown",
      "source": [
        "The final piece that is missing is converting the character labels into numeric labels through the Scikit __[Label Encoder](http://scikit-learn.org/stable/modules/generated/sklearn.preprocessing.LabelEncoder.html)__ tool."
      ],
      "metadata": {}
    },
    {
      "cell_type": "code",
      "source": [
        "# Encode the labels\n",
        "le = preprocessing.LabelEncoder()\n",
        "le.fit(train_df['category'].values)\n",
        "\n",
        "train_df['category'] = le.transform(train_df['category'].values)\n",
        "validation_df['category'] = le.transform(validation_df['category'].values)"
      ],
      "outputs": [
        {
          "output_type": "stream",
          "name": "stderr",
          "text": [
            "C:\\Users\\Paul\\Anaconda3\\lib\\site-packages\\ipykernel\\__main__.py:5: SettingWithCopyWarning: \n",
            "A value is trying to be set on a copy of a slice from a DataFrame.\n",
            "Try using .loc[row_indexer,col_indexer] = value instead\n",
            "\n",
            "See the caveats in the documentation: http://pandas.pydata.org/pandas-docs/stable/indexing.html#indexing-view-versus-copy\n",
            "C:\\Users\\Paul\\Anaconda3\\lib\\site-packages\\ipykernel\\__main__.py:6: SettingWithCopyWarning: \n",
            "A value is trying to be set on a copy of a slice from a DataFrame.\n",
            "Try using .loc[row_indexer,col_indexer] = value instead\n",
            "\n",
            "See the caveats in the documentation: http://pandas.pydata.org/pandas-docs/stable/indexing.html#indexing-view-versus-copy\n"
          ]
        }
      ],
      "execution_count": 16,
      "metadata": {
        "collapsed": false,
        "outputHidden": false,
        "inputHidden": false
      }
    },
    {
      "cell_type": "code",
      "source": [
        "# Train the classifier\n",
        "\ntext_clf.fit(map(str, train_df['title'].values), train_df['category'].values)  "
      ],
      "outputs": [
        {
          "output_type": "execute_result",
          "execution_count": 17,
          "data": {
            "text/plain": [
              "Pipeline(steps=[('stemm', <__main__.StemmerTransformer object at 0x000001D807B9F908>), ('vect', CountVectorizer(analyzer='word', binary=False, decode_error='strict',\n",
              "        dtype=<class 'numpy.int64'>, encoding='utf-8', input='content',\n",
              "        lowercase=True, max_df=1.0, max_features=None, min_df=1,\n",
              "      ...inear_tf=False, use_idf=True)), ('clf', MultinomialNB(alpha=1.0, class_prior=None, fit_prior=True))])"
            ]
          },
          "metadata": {}
        }
      ],
      "execution_count": 17,
      "metadata": {
        "collapsed": false,
        "outputHidden": false,
        "inputHidden": false
      }
    },
    {
      "cell_type": "code",
      "source": [
        "predicted = text_clf.predict(map(str, validation_df['title'].values))\n",
        "np.mean(predicted == validation_df['category'])\n"
      ],
      "outputs": [
        {
          "output_type": "execute_result",
          "execution_count": 18,
          "data": {
            "text/plain": [
              "0.92018607073528713"
            ]
          },
          "metadata": {}
        }
      ],
      "execution_count": 18,
      "metadata": {
        "collapsed": false,
        "outputHidden": false,
        "inputHidden": false
      }
    },
    {
      "cell_type": "markdown",
      "source": [
        "This learning unit introduced some of the tools you can use in practice to work with text data. In the next unit we will look at more advanced topics in text classification."
      ],
      "metadata": {}
    }
  ],
  "metadata": {
    "kernelspec": {
      "name": "python3",
      "language": "python",
      "display_name": "Python 3"
    },
    "kernel_info": {
      "name": "python3"
    },
    "language_info": {
      "name": "python",
      "version": "3.6.0",
      "mimetype": "text/x-python",
      "codemirror_mode": {
        "name": "ipython",
        "version": 3
      },
      "pygments_lexer": "ipython3",
      "nbconvert_exporter": "python",
      "file_extension": ".py"
    },
    "nteract": {
      "version": "0.3.4"
    }
  },
  "nbformat": 4,
  "nbformat_minor": 4
}